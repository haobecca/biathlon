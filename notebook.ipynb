{
 "cells": [
  {
   "cell_type": "markdown",
   "metadata": {},
   "source": [
    "# Biathlon Data Science Project\n",
    "\n",
    "* Data source: Real Biatholon Statistics [link](http://www.realbiathlon.com/p/statistics-women.html)\n",
    "* 2015-2016 Season Biathlon World Cup Womens Shooting Times: [link](http://realbiathlon.sportsontheweb.net/data2/WomenShootingTimes_files/sheet016.htm)\n",
    "* 2015-2016 Season Biathlon World Cup Womens Results: [link](http://realbiathlon.sportsontheweb.net/data2/WomenResults_files/sheet016.htm)\n",
    "\n",
    "## Definition of Features\n",
    "\n",
    "From the metadata on the data source we have the following definition of the features.\n",
    "\n",
    "*From \"shooting_time.csv\"*\n",
    "\n",
    "| Feature  | Description |\n",
    "|--------------|-------------|\n",
    "|  Family Name  | Last Name|\n",
    "|  Given Name  | First Name|\n",
    "|  Races  |  Number of individual, non-relay races each person competed in over the 2015-16 season|\n",
    "|  Rg_Time_S |  Average Time for individual to get into standing position, shoot and get out of position, otherwise known as Range Time to shoot Standing|\n",
    "|  Rg_Time_P |  Average Time for individual to get into prone position, shoot, and get out of position, otherwise known as Range Time to shoot Prone|\n",
    "|  Penalty Loop  |  Season average penalty loop (approximation)|\n",
    "\n",
    "*From \"skiing_performance.csv\"*\n",
    "\n",
    "| Feature  | Description |\n",
    "|--------------|-------------|\n",
    "|  Km/h  |  season's average ski speed in km/h|\n",
    "\n",
    "*From \"shooting_percentage.csv\"*\n",
    "\n",
    "| Feature  | Description |\n",
    "|--------------|-------------|\n",
    "|  Hits  |  Number of targets hits|\n",
    "|  Shots  |  Number of total targets the individual could have hit (Or wanted to hit to not ski any penalty loops)|\n",
    "|  P%  |  Average percentage of Prone targets hit|\n",
    "|  S%  |  Average percentage of Standing Targets hit|\n",
    "\n",
    "\n",
    "*From \"15_16_world_cup_results.csv\"*\n",
    "\n",
    "| Feature  | Description |\n",
    "|--------------|-------------|\n",
    "|  Average Rank  |  average race rank in individual, non-relay races|\n",
    "|  World Cup points  |  Overall World Cup score|\n",
    "|  MS  |  Mass Start World Cup score|\n",
    "|  Win, Podium, Top 10, Top 20, Top 30, Top 40 %  |  Apercentage for individual, non-relay races|\n",
    "\n",
    "\n",
    "## What we can do next\n",
    "<input type=\"checkbox\">  Merge shooting time dataframe with results dataframe to create a target for training our model. Add average rank and world cup points as columns from results file.\n",
    "\n",
    "<input type=\"checkbox\">  Statistical analysis -- what is the spread of each category? Create a new column of Hits/ Shots (Shooting Percentage) and get rid of % P and % S. Vizualize this. How do we normalize each category?\n",
    "\n",
    "<input type=\"checkbox\">  Feature selection -- What categories might contribute more to the final ranking? (\"Skiing is for show, shooting is for dough\").\n",
    "\n",
    "<input type=\"checkbox\">  Train a model to predict placement. How accurate is it? Would combining data from different years yield better results?\n",
    "    * OLR\n",
    "    * Regularized regression:\n",
    "        * Ridge\n",
    "        * LASSO\n",
    "        * Elastic net\n",
    "* Examine prediction metrics such as R squared and RMSE\n",
    "* Perform hyperparameter tuning with the elastic net regularization, assess model performance by splittig off hold-out data to test as unseen data \n",
    "\n",
    "<input type=\"checkbox\">  How have the categories changed throughout the years? Is the sport getting more competitive?"
   ]
  },
  {
   "cell_type": "markdown",
   "metadata": {},
   "source": [
    "### Merging Dataframes\n",
    "\n",
    "* Compare statistics for Fastest Skiers and Shooting percentages/shooting times\n",
    "* Concat First + Last name\n"
   ]
  },
  {
   "cell_type": "code",
   "execution_count": 53,
   "metadata": {},
   "outputs": [],
   "source": [
    "import pandas as pd\n",
    "import matplotlib.pyplot as plt      # matplotlib.pyplot plots data\n",
    "import seaborn as sns\n",
    "import datetime\n",
    "import numpy as np\n",
    "\n",
    "from sklearn import linear_model\n",
    "\n",
    "from sklearn.metrics import mean_squared_error\n",
    "\n",
    "from sklearn.model_selection import train_test_split\n",
    "from sklearn.model_selection import cross_val_score\n",
    "from sklearn.model_selection import GridSearchCV\n",
    "\n",
    "%matplotlib inline"
   ]
  },
  {
   "cell_type": "markdown",
   "metadata": {},
   "source": [
    "The dataset already contains an index column. We can either set this column as the index in our data frame, our we can choose to drop the first column in our dataset. I am doing the former below. Further, we see a large number of NaN's. Let's go ahead and convert these to 0:00.0 to be consistent. While we're at it, let's also rename the columns to something less confusing."
   ]
  },
  {
   "cell_type": "code",
   "execution_count": 2,
   "metadata": {
    "scrolled": false
   },
   "outputs": [
    {
     "data": {
      "text/html": [
       "<div>\n",
       "<style scoped>\n",
       "    .dataframe tbody tr th:only-of-type {\n",
       "        vertical-align: middle;\n",
       "    }\n",
       "\n",
       "    .dataframe tbody tr th {\n",
       "        vertical-align: top;\n",
       "    }\n",
       "\n",
       "    .dataframe thead th {\n",
       "        text-align: right;\n",
       "    }\n",
       "</style>\n",
       "<table border=\"1\" class=\"dataframe\">\n",
       "  <thead>\n",
       "    <tr style=\"text-align: right;\">\n",
       "      <th></th>\n",
       "      <th>Family Name</th>\n",
       "      <th>Given Name</th>\n",
       "      <th>Races</th>\n",
       "      <th>Rg_Time_P</th>\n",
       "      <th>Rg_Time_S</th>\n",
       "      <th>Penalty Loop</th>\n",
       "    </tr>\n",
       "  </thead>\n",
       "  <tbody>\n",
       "    <tr>\n",
       "      <th>1</th>\n",
       "      <td>KAISHEVA</td>\n",
       "      <td>Uliana</td>\n",
       "      <td>1</td>\n",
       "      <td>0:41.8</td>\n",
       "      <td>0:41.7</td>\n",
       "      <td>0:26.0</td>\n",
       "    </tr>\n",
       "    <tr>\n",
       "      <th>2</th>\n",
       "      <td>KUMMER</td>\n",
       "      <td>Luise</td>\n",
       "      <td>6</td>\n",
       "      <td>0:48.1</td>\n",
       "      <td>0:45.9</td>\n",
       "      <td>0:26.4</td>\n",
       "    </tr>\n",
       "    <tr>\n",
       "      <th>3</th>\n",
       "      <td>HAUSER</td>\n",
       "      <td>Lisa Theresa</td>\n",
       "      <td>24</td>\n",
       "      <td>0:48.3</td>\n",
       "      <td>0:43.6</td>\n",
       "      <td>0:25.3</td>\n",
       "    </tr>\n",
       "    <tr>\n",
       "      <th>4</th>\n",
       "      <td>ZDOUC</td>\n",
       "      <td>Dunja</td>\n",
       "      <td>11</td>\n",
       "      <td>0:49.5</td>\n",
       "      <td>0:45.1</td>\n",
       "      <td>0:25.8</td>\n",
       "    </tr>\n",
       "    <tr>\n",
       "      <th>5</th>\n",
       "      <td>WIERER</td>\n",
       "      <td>Dorothea</td>\n",
       "      <td>25</td>\n",
       "      <td>0:47.2</td>\n",
       "      <td>0:44.9</td>\n",
       "      <td>0:23.5</td>\n",
       "    </tr>\n",
       "  </tbody>\n",
       "</table>\n",
       "</div>"
      ],
      "text/plain": [
       "  Family Name    Given Name  Races Rg_Time_P Rg_Time_S Penalty Loop\n",
       "1    KAISHEVA        Uliana      1    0:41.8    0:41.7       0:26.0\n",
       "2      KUMMER         Luise      6    0:48.1    0:45.9       0:26.4\n",
       "3      HAUSER  Lisa Theresa     24    0:48.3    0:43.6       0:25.3\n",
       "4       ZDOUC         Dunja     11    0:49.5    0:45.1       0:25.8\n",
       "5      WIERER      Dorothea     25    0:47.2    0:44.9       0:23.5"
      ]
     },
     "execution_count": 2,
     "metadata": {},
     "output_type": "execute_result"
    }
   ],
   "source": [
    "df_sh_times = pd.read_csv(\"shooting_time.csv\", index_col=0)\n",
    "df_sh_times = df_sh_times.fillna('0:00.0')\n",
    "df_sh_times = df_sh_times[['Family Name', \n",
    "                           'Given Name', \n",
    "                           'Races', \n",
    "                           'Rg Time\\nP', \n",
    "                           'Rg Time\\nS', \n",
    "                           'Penalty\\nLoop' ]]\n",
    "\n",
    "df_sh_times = df_sh_times.rename(columns={'Rg Time\\nP': 'Rg_Time_P',\n",
    "                                          'Rg Time\\nS': 'Rg_Time_S',\n",
    "                                          'Penalty\\nLoop': \"Penalty Loop\"})\n",
    "df_sh_times.head()"
   ]
  },
  {
   "cell_type": "markdown",
   "metadata": {},
   "source": [
    "We see that the times are stored as string. Let's write a function to convert each of the times to total seconds."
   ]
  },
  {
   "cell_type": "code",
   "execution_count": 3,
   "metadata": {},
   "outputs": [],
   "source": [
    "def str_to_sec(val):\n",
    "    minute, seconds = val.split(\":\")\n",
    "    sec, msec = seconds.split(\".\")\n",
    "    total_sec = int(minute)*60 + int(sec) + int(msec)/10\n",
    "    return total_sec"
   ]
  },
  {
   "cell_type": "code",
   "execution_count": 4,
   "metadata": {
    "scrolled": true
   },
   "outputs": [
    {
     "data": {
      "text/html": [
       "<div>\n",
       "<style scoped>\n",
       "    .dataframe tbody tr th:only-of-type {\n",
       "        vertical-align: middle;\n",
       "    }\n",
       "\n",
       "    .dataframe tbody tr th {\n",
       "        vertical-align: top;\n",
       "    }\n",
       "\n",
       "    .dataframe thead th {\n",
       "        text-align: right;\n",
       "    }\n",
       "</style>\n",
       "<table border=\"1\" class=\"dataframe\">\n",
       "  <thead>\n",
       "    <tr style=\"text-align: right;\">\n",
       "      <th></th>\n",
       "      <th>Family Name</th>\n",
       "      <th>Races</th>\n",
       "      <th>Rg_Time_P</th>\n",
       "      <th>Rg_Time_S</th>\n",
       "      <th>Penalty Loop</th>\n",
       "    </tr>\n",
       "  </thead>\n",
       "  <tbody>\n",
       "    <tr>\n",
       "      <th>1</th>\n",
       "      <td>Kaisheva Uliana</td>\n",
       "      <td>1</td>\n",
       "      <td>41.8</td>\n",
       "      <td>41.7</td>\n",
       "      <td>26.0</td>\n",
       "    </tr>\n",
       "    <tr>\n",
       "      <th>2</th>\n",
       "      <td>Kummer Luise</td>\n",
       "      <td>6</td>\n",
       "      <td>48.1</td>\n",
       "      <td>45.9</td>\n",
       "      <td>26.4</td>\n",
       "    </tr>\n",
       "    <tr>\n",
       "      <th>3</th>\n",
       "      <td>Hauser Lisa Theresa</td>\n",
       "      <td>24</td>\n",
       "      <td>48.3</td>\n",
       "      <td>43.6</td>\n",
       "      <td>25.3</td>\n",
       "    </tr>\n",
       "    <tr>\n",
       "      <th>4</th>\n",
       "      <td>Zdouc Dunja</td>\n",
       "      <td>11</td>\n",
       "      <td>49.5</td>\n",
       "      <td>45.1</td>\n",
       "      <td>25.8</td>\n",
       "    </tr>\n",
       "    <tr>\n",
       "      <th>5</th>\n",
       "      <td>Wierer Dorothea</td>\n",
       "      <td>25</td>\n",
       "      <td>47.2</td>\n",
       "      <td>44.9</td>\n",
       "      <td>23.5</td>\n",
       "    </tr>\n",
       "  </tbody>\n",
       "</table>\n",
       "</div>"
      ],
      "text/plain": [
       "           Family Name  Races  Rg_Time_P  Rg_Time_S  Penalty Loop\n",
       "1      Kaisheva Uliana      1       41.8       41.7          26.0\n",
       "2         Kummer Luise      6       48.1       45.9          26.4\n",
       "3  Hauser Lisa Theresa     24       48.3       43.6          25.3\n",
       "4          Zdouc Dunja     11       49.5       45.1          25.8\n",
       "5      Wierer Dorothea     25       47.2       44.9          23.5"
      ]
     },
     "execution_count": 4,
     "metadata": {},
     "output_type": "execute_result"
    }
   ],
   "source": [
    "for c in df_sh_times.columns[3::]:\n",
    "    df_sh_times[c] = df_sh_times[c].apply(lambda x: str_to_sec(x))\n",
    "\n",
    "df_sh_times['Family Name'] = df_sh_times['Family Name'].apply(lambda x: x.capitalize()) + \" \" + df_sh_times['Given Name']   \n",
    "df_sh_times = df_sh_times.drop([\"Given Name\"], axis=1)\n",
    "df_sh_times.head()"
   ]
  },
  {
   "cell_type": "markdown",
   "metadata": {},
   "source": [
    "Much better! Now that the data is in a more workable format, let's dive deeper into what the dataset looks like. Some things we might be interested in include the shape, a summary of each column (number of entries, data types etc), and a correlation matrix to pick out any redundancies."
   ]
  },
  {
   "cell_type": "code",
   "execution_count": 5,
   "metadata": {},
   "outputs": [
    {
     "name": "stdout",
     "output_type": "stream",
     "text": [
      "The shooting times data set now has 165 rows and 5 columns after cleaning\n"
     ]
    }
   ],
   "source": [
    "# Look at the shape of the dataframe (number of rows and columns)\n",
    "print(\"The shooting times data set now has {rows} rows and {cols} columns after cleaning\".format(rows=df_sh_times.shape[0], \n",
    "                                                                cols=df_sh_times.shape[1]))"
   ]
  },
  {
   "cell_type": "code",
   "execution_count": 6,
   "metadata": {},
   "outputs": [
    {
     "name": "stdout",
     "output_type": "stream",
     "text": [
      "<class 'pandas.core.frame.DataFrame'>\n",
      "Int64Index: 165 entries, 1 to 165\n",
      "Data columns (total 5 columns):\n",
      "Family Name     165 non-null object\n",
      "Races           165 non-null int64\n",
      "Rg_Time_P       165 non-null float64\n",
      "Rg_Time_S       165 non-null float64\n",
      "Penalty Loop    165 non-null float64\n",
      "dtypes: float64(3), int64(1), object(1)\n",
      "memory usage: 7.7+ KB\n"
     ]
    }
   ],
   "source": [
    "# look a a summary of each column (number of entries, data-type etc)\n",
    "df_sh_times.info()"
   ]
  },
  {
   "cell_type": "code",
   "execution_count": 7,
   "metadata": {},
   "outputs": [
    {
     "data": {
      "text/plain": [
       "False"
      ]
     },
     "execution_count": 7,
     "metadata": {},
     "output_type": "execute_result"
    }
   ],
   "source": [
    "# Check for any null values\n",
    "df_sh_times.isnull().values.any()"
   ]
  },
  {
   "cell_type": "code",
   "execution_count": 8,
   "metadata": {},
   "outputs": [
    {
     "data": {
      "text/html": [
       "<div>\n",
       "<style scoped>\n",
       "    .dataframe tbody tr th:only-of-type {\n",
       "        vertical-align: middle;\n",
       "    }\n",
       "\n",
       "    .dataframe tbody tr th {\n",
       "        vertical-align: top;\n",
       "    }\n",
       "\n",
       "    .dataframe thead th {\n",
       "        text-align: right;\n",
       "    }\n",
       "</style>\n",
       "<table border=\"1\" class=\"dataframe\">\n",
       "  <thead>\n",
       "    <tr style=\"text-align: right;\">\n",
       "      <th></th>\n",
       "      <th>Family Name</th>\n",
       "      <th>km/h</th>\n",
       "    </tr>\n",
       "  </thead>\n",
       "  <tbody>\n",
       "    <tr>\n",
       "      <th>1</th>\n",
       "      <td>Makarainen Kaisa</td>\n",
       "      <td>24.08</td>\n",
       "    </tr>\n",
       "    <tr>\n",
       "      <th>2</th>\n",
       "      <td>Dorin habert Marie</td>\n",
       "      <td>23.85</td>\n",
       "    </tr>\n",
       "    <tr>\n",
       "      <th>3</th>\n",
       "      <td>Eckhoff Tiril</td>\n",
       "      <td>23.74</td>\n",
       "    </tr>\n",
       "    <tr>\n",
       "      <th>4</th>\n",
       "      <td>Dahlmeier Laura</td>\n",
       "      <td>23.70</td>\n",
       "    </tr>\n",
       "    <tr>\n",
       "      <th>5</th>\n",
       "      <td>Goessner Miriam</td>\n",
       "      <td>23.89</td>\n",
       "    </tr>\n",
       "  </tbody>\n",
       "</table>\n",
       "</div>"
      ],
      "text/plain": [
       "          Family Name   km/h\n",
       "1    Makarainen Kaisa  24.08\n",
       "2  Dorin habert Marie  23.85\n",
       "3       Eckhoff Tiril  23.74\n",
       "4     Dahlmeier Laura  23.70\n",
       "5     Goessner Miriam  23.89"
      ]
     },
     "execution_count": 8,
     "metadata": {},
     "output_type": "execute_result"
    }
   ],
   "source": [
    "# Now read in the skiing performance data set\n",
    "df_ski = pd.read_csv(\"skiing_performance.csv\", index_col=0)\n",
    "df_ski = df_ski[['Family Name', 'Given Name', 'km/h']]\n",
    "df_ski['Family Name'] = df_ski['Family Name'].apply(lambda x: x.capitalize()) + \" \" + df_ski['Given Name']\n",
    "df_ski = df_ski.drop([\"Given Name\"], axis=1)\n",
    "\n",
    "df_ski.head()"
   ]
  },
  {
   "cell_type": "code",
   "execution_count": 9,
   "metadata": {},
   "outputs": [
    {
     "data": {
      "text/plain": [
       "False"
      ]
     },
     "execution_count": 9,
     "metadata": {},
     "output_type": "execute_result"
    }
   ],
   "source": [
    "df_ski.isnull().values.any()"
   ]
  },
  {
   "cell_type": "code",
   "execution_count": 10,
   "metadata": {
    "scrolled": true
   },
   "outputs": [
    {
     "data": {
      "text/html": [
       "<div>\n",
       "<style scoped>\n",
       "    .dataframe tbody tr th:only-of-type {\n",
       "        vertical-align: middle;\n",
       "    }\n",
       "\n",
       "    .dataframe tbody tr th {\n",
       "        vertical-align: top;\n",
       "    }\n",
       "\n",
       "    .dataframe thead th {\n",
       "        text-align: right;\n",
       "    }\n",
       "</style>\n",
       "<table border=\"1\" class=\"dataframe\">\n",
       "  <thead>\n",
       "    <tr style=\"text-align: right;\">\n",
       "      <th></th>\n",
       "      <th>Family Name</th>\n",
       "      <th>Hits</th>\n",
       "      <th>Shots</th>\n",
       "      <th>P\n",
       " %</th>\n",
       "      <th>S\n",
       "%</th>\n",
       "    </tr>\n",
       "  </thead>\n",
       "  <tbody>\n",
       "    <tr>\n",
       "      <th>1</th>\n",
       "      <td>Kupfner Simone</td>\n",
       "      <td>10</td>\n",
       "      <td>10</td>\n",
       "      <td>100.0</td>\n",
       "      <td>100.0</td>\n",
       "    </tr>\n",
       "    <tr>\n",
       "      <th>2</th>\n",
       "      <td>Kadeva Daniela</td>\n",
       "      <td>10</td>\n",
       "      <td>10</td>\n",
       "      <td>100.0</td>\n",
       "      <td>100.0</td>\n",
       "    </tr>\n",
       "    <tr>\n",
       "      <th>3</th>\n",
       "      <td>Vaillancourt Audrey</td>\n",
       "      <td>19</td>\n",
       "      <td>20</td>\n",
       "      <td>90.0</td>\n",
       "      <td>100.0</td>\n",
       "    </tr>\n",
       "    <tr>\n",
       "      <th>4</th>\n",
       "      <td>Runggaldier Alexia</td>\n",
       "      <td>87</td>\n",
       "      <td>93</td>\n",
       "      <td>95.7</td>\n",
       "      <td>91.5</td>\n",
       "    </tr>\n",
       "    <tr>\n",
       "      <th>5</th>\n",
       "      <td>Skardino Nadezhda</td>\n",
       "      <td>365</td>\n",
       "      <td>394</td>\n",
       "      <td>92.4</td>\n",
       "      <td>92.9</td>\n",
       "    </tr>\n",
       "  </tbody>\n",
       "</table>\n",
       "</div>"
      ],
      "text/plain": [
       "           Family Name  Hits  Shots  P\\n %   S\\n%\n",
       "1       Kupfner Simone    10     10  100.0  100.0\n",
       "2       Kadeva Daniela    10     10  100.0  100.0\n",
       "3  Vaillancourt Audrey    19     20   90.0  100.0\n",
       "4   Runggaldier Alexia    87     93   95.7   91.5\n",
       "5    Skardino Nadezhda   365    394   92.4   92.9"
      ]
     },
     "execution_count": 10,
     "metadata": {},
     "output_type": "execute_result"
    }
   ],
   "source": [
    "# Now read in the skiing performance data set\n",
    "df_sh_per = pd.read_csv(\"shooting_percentage.csv\", index_col=0)\n",
    "df_sh_per = df_sh_per[['Family Name', 'Given Name', 'Hits', 'Shots', 'P\\n %', 'S\\n%']]\n",
    "df_sh_per['Family Name'] = df_sh_per['Family Name'].apply(lambda x: x.capitalize()) + \" \" + df_sh_per['Given Name']\n",
    "df_sh_per = df_sh_per.drop([\"Given Name\"], axis=1)\n",
    "\n",
    "df_sh_per.head()"
   ]
  },
  {
   "cell_type": "code",
   "execution_count": 11,
   "metadata": {},
   "outputs": [
    {
     "data": {
      "text/plain": [
       "False"
      ]
     },
     "execution_count": 11,
     "metadata": {},
     "output_type": "execute_result"
    }
   ],
   "source": [
    "df_sh_per.isnull().values.any()"
   ]
  },
  {
   "cell_type": "code",
   "execution_count": 12,
   "metadata": {},
   "outputs": [
    {
     "data": {
      "text/html": [
       "<div>\n",
       "<style scoped>\n",
       "    .dataframe tbody tr th:only-of-type {\n",
       "        vertical-align: middle;\n",
       "    }\n",
       "\n",
       "    .dataframe tbody tr th {\n",
       "        vertical-align: top;\n",
       "    }\n",
       "\n",
       "    .dataframe thead th {\n",
       "        text-align: right;\n",
       "    }\n",
       "</style>\n",
       "<table border=\"1\" class=\"dataframe\">\n",
       "  <thead>\n",
       "    <tr style=\"text-align: right;\">\n",
       "      <th></th>\n",
       "      <th>Family Name</th>\n",
       "      <th>Average Rank</th>\n",
       "      <th>Podiums</th>\n",
       "    </tr>\n",
       "  </thead>\n",
       "  <tbody>\n",
       "    <tr>\n",
       "      <th>0</th>\n",
       "      <td>Soukalova Gabriela</td>\n",
       "      <td>4.2</td>\n",
       "      <td>11</td>\n",
       "    </tr>\n",
       "    <tr>\n",
       "      <th>1</th>\n",
       "      <td>Dorin habert Marie</td>\n",
       "      <td>6.7</td>\n",
       "      <td>11</td>\n",
       "    </tr>\n",
       "    <tr>\n",
       "      <th>2</th>\n",
       "      <td>Wierer Dorothea</td>\n",
       "      <td>8.2</td>\n",
       "      <td>10</td>\n",
       "    </tr>\n",
       "    <tr>\n",
       "      <th>3</th>\n",
       "      <td>Makarainen Kaisa</td>\n",
       "      <td>9.6</td>\n",
       "      <td>9</td>\n",
       "    </tr>\n",
       "    <tr>\n",
       "      <th>4</th>\n",
       "      <td>Hildebrand Franziska</td>\n",
       "      <td>11.0</td>\n",
       "      <td>5</td>\n",
       "    </tr>\n",
       "  </tbody>\n",
       "</table>\n",
       "</div>"
      ],
      "text/plain": [
       "            Family Name  Average Rank  Podiums\n",
       "0    Soukalova Gabriela           4.2       11\n",
       "1    Dorin habert Marie           6.7       11\n",
       "2       Wierer Dorothea           8.2       10\n",
       "3      Makarainen Kaisa           9.6        9\n",
       "4  Hildebrand Franziska          11.0        5"
      ]
     },
     "execution_count": 12,
     "metadata": {},
     "output_type": "execute_result"
    }
   ],
   "source": [
    "df_results = pd.read_csv(\"15_16_world_cup_results.csv\")\n",
    "\n",
    "df_results = df_results[[' Family Name', \n",
    "                         'Given Name', \n",
    "                         'Average Rank',\n",
    "                         'Podiums',]]\n",
    "df_results = df_results.rename(columns={' Family Name': 'Family Name'})\n",
    "\n",
    "df_results['Family Name'] = df_results['Family Name'].apply(lambda x: x.capitalize()) + \" \" + df_results['Given Name']   \n",
    "df_results = df_results.drop([\"Given Name\"], axis=1)\n",
    "df_results = df_results.fillna(101)\n",
    "\n",
    "df_results.head()"
   ]
  },
  {
   "cell_type": "code",
   "execution_count": 13,
   "metadata": {
    "scrolled": true
   },
   "outputs": [
    {
     "data": {
      "text/html": [
       "<div>\n",
       "<style scoped>\n",
       "    .dataframe tbody tr th:only-of-type {\n",
       "        vertical-align: middle;\n",
       "    }\n",
       "\n",
       "    .dataframe tbody tr th {\n",
       "        vertical-align: top;\n",
       "    }\n",
       "\n",
       "    .dataframe thead th {\n",
       "        text-align: right;\n",
       "    }\n",
       "</style>\n",
       "<table border=\"1\" class=\"dataframe\">\n",
       "  <thead>\n",
       "    <tr style=\"text-align: right;\">\n",
       "      <th></th>\n",
       "      <th>Family Name</th>\n",
       "      <th>Average Rank</th>\n",
       "      <th>Podiums</th>\n",
       "      <th>Races</th>\n",
       "      <th>Rg_Time_P</th>\n",
       "      <th>Rg_Time_S</th>\n",
       "      <th>Penalty Loop</th>\n",
       "      <th>Hits</th>\n",
       "      <th>Shots</th>\n",
       "      <th>P\n",
       " %</th>\n",
       "      <th>S\n",
       "%</th>\n",
       "      <th>km/h</th>\n",
       "    </tr>\n",
       "  </thead>\n",
       "  <tbody>\n",
       "    <tr>\n",
       "      <th>0</th>\n",
       "      <td>Soukalova Gabriela</td>\n",
       "      <td>4.2</td>\n",
       "      <td>11</td>\n",
       "      <td>25</td>\n",
       "      <td>55.0</td>\n",
       "      <td>50.4</td>\n",
       "      <td>23.4</td>\n",
       "      <td>449</td>\n",
       "      <td>488</td>\n",
       "      <td>95.0</td>\n",
       "      <td>89.1</td>\n",
       "      <td>23.63</td>\n",
       "    </tr>\n",
       "    <tr>\n",
       "      <th>1</th>\n",
       "      <td>Dorin habert Marie</td>\n",
       "      <td>6.7</td>\n",
       "      <td>11</td>\n",
       "      <td>25</td>\n",
       "      <td>52.8</td>\n",
       "      <td>51.3</td>\n",
       "      <td>23.3</td>\n",
       "      <td>429</td>\n",
       "      <td>488</td>\n",
       "      <td>94.3</td>\n",
       "      <td>81.6</td>\n",
       "      <td>23.85</td>\n",
       "    </tr>\n",
       "    <tr>\n",
       "      <th>2</th>\n",
       "      <td>Wierer Dorothea</td>\n",
       "      <td>8.2</td>\n",
       "      <td>10</td>\n",
       "      <td>25</td>\n",
       "      <td>47.2</td>\n",
       "      <td>44.9</td>\n",
       "      <td>23.5</td>\n",
       "      <td>431</td>\n",
       "      <td>496</td>\n",
       "      <td>91.4</td>\n",
       "      <td>82.5</td>\n",
       "      <td>23.35</td>\n",
       "    </tr>\n",
       "    <tr>\n",
       "      <th>3</th>\n",
       "      <td>Makarainen Kaisa</td>\n",
       "      <td>9.6</td>\n",
       "      <td>9</td>\n",
       "      <td>24</td>\n",
       "      <td>54.3</td>\n",
       "      <td>52.9</td>\n",
       "      <td>23.7</td>\n",
       "      <td>390</td>\n",
       "      <td>468</td>\n",
       "      <td>84.3</td>\n",
       "      <td>82.4</td>\n",
       "      <td>24.08</td>\n",
       "    </tr>\n",
       "    <tr>\n",
       "      <th>4</th>\n",
       "      <td>Hildebrand Franziska</td>\n",
       "      <td>11.0</td>\n",
       "      <td>5</td>\n",
       "      <td>23</td>\n",
       "      <td>54.2</td>\n",
       "      <td>54.5</td>\n",
       "      <td>23.9</td>\n",
       "      <td>402</td>\n",
       "      <td>448</td>\n",
       "      <td>91.5</td>\n",
       "      <td>87.9</td>\n",
       "      <td>23.46</td>\n",
       "    </tr>\n",
       "  </tbody>\n",
       "</table>\n",
       "</div>"
      ],
      "text/plain": [
       "            Family Name  Average Rank  Podiums  Races  Rg_Time_P  Rg_Time_S  \\\n",
       "0    Soukalova Gabriela           4.2       11     25       55.0       50.4   \n",
       "1    Dorin habert Marie           6.7       11     25       52.8       51.3   \n",
       "2       Wierer Dorothea           8.2       10     25       47.2       44.9   \n",
       "3      Makarainen Kaisa           9.6        9     24       54.3       52.9   \n",
       "4  Hildebrand Franziska          11.0        5     23       54.2       54.5   \n",
       "\n",
       "   Penalty Loop  Hits  Shots  P\\n %  S\\n%   km/h  \n",
       "0          23.4   449    488   95.0  89.1  23.63  \n",
       "1          23.3   429    488   94.3  81.6  23.85  \n",
       "2          23.5   431    496   91.4  82.5  23.35  \n",
       "3          23.7   390    468   84.3  82.4  24.08  \n",
       "4          23.9   402    448   91.5  87.9  23.46  "
      ]
     },
     "execution_count": 13,
     "metadata": {},
     "output_type": "execute_result"
    }
   ],
   "source": [
    "df = df_sh_per.merge(df_ski, left_on='Family Name', right_on='Family Name')\n",
    "df = df_sh_times.merge(df, left_on='Family Name', right_on='Family Name')\n",
    "df = df_results.merge(df, left_on='Family Name', right_on='Family Name')\n",
    "\n",
    "df.head()"
   ]
  },
  {
   "cell_type": "code",
   "execution_count": 14,
   "metadata": {},
   "outputs": [
    {
     "data": {
      "text/plain": [
       "(165, 12)"
      ]
     },
     "execution_count": 14,
     "metadata": {},
     "output_type": "execute_result"
    }
   ],
   "source": [
    "df.isnull().values.any()\n",
    "df.shape"
   ]
  },
  {
   "cell_type": "code",
   "execution_count": 15,
   "metadata": {},
   "outputs": [
    {
     "name": "stdout",
     "output_type": "stream",
     "text": [
      "The shooting times data set now has 165 rows and 12 columns after cleaning\n"
     ]
    }
   ],
   "source": [
    "# Look at the shape of the merged dataframe (number of rows and columns)\n",
    "print(\"The shooting times data set now has {rows} rows and {cols} columns after cleaning\".format(rows=df.shape[0], \n",
    "                                                                cols=df.shape[1]))"
   ]
  },
  {
   "cell_type": "code",
   "execution_count": 16,
   "metadata": {},
   "outputs": [],
   "source": [
    "def plot_pretty_corr(df):\n",
    "    plt.figure(figsize=(12, 12))\n",
    "    corr = df.corr()\n",
    "    ax = sns.heatmap(corr,\n",
    "                    vmin=-1,\n",
    "                    vmax=1,\n",
    "                    center=0,\n",
    "                    cmap=sns.diverging_palette(20, 220, n=200),\n",
    "        square=True\n",
    "    )\n",
    "    ax.set_xticklabels(\n",
    "        ax.get_xticklabels(),\n",
    "        rotation=45,\n",
    "        horizontalalignment='right'\n",
    "    );"
   ]
  },
  {
   "cell_type": "code",
   "execution_count": 17,
   "metadata": {
    "scrolled": true
   },
   "outputs": [
    {
     "data": {
      "image/png": "[encoded data removed]",
      "text/plain": [
       "<Figure size 864x864 with 2 Axes>"
      ]
     },
     "metadata": {
      "needs_background": "light"
     },
     "output_type": "display_data"
    }
   ],
   "source": [
    "plot_pretty_corr(df)"
   ]
  },
  {
   "cell_type": "code",
   "execution_count": null,
   "metadata": {},
   "outputs": [],
   "source": [
    "df[\"Hits Per Shot\"] = round((df[\"Hits\"]/df[\"Shots\"]) * 100, 2)\n",
    "df = df[[\"Family Name\", \"Average Rank\", \"km/h\", \"Hits Per Shot\"]]\n",
    "df.head()"
   ]
  },
  {
   "cell_type": "code",
   "execution_count": 24,
   "metadata": {
    "scrolled": true
   },
   "outputs": [
    {
     "data": {
      "image/png": "[encoded data removed]",
      "text/plain": [
       "<Figure size 864x864 with 2 Axes>"
      ]
     },
     "metadata": {
      "needs_background": "light"
     },
     "output_type": "display_data"
    }
   ],
   "source": [
    "plot_pretty_corr(df)"
   ]
  },
  {
   "cell_type": "markdown",
   "metadata": {},
   "source": [
    "## What is the predictive power if using hits per shot or km/h alone?"
   ]
  },
  {
   "cell_type": "code",
   "execution_count": 41,
   "metadata": {},
   "outputs": [],
   "source": [
    "# Creating feature and target arrays\n",
    "X_hits = df.drop(\"Average Rank\", axis=1).values\n",
    "y = df[\"Average Rank\"].values\n",
    "\n",
    "X_hits = X_hits[:,2]\n",
    "\n",
    "y = y.reshape(-1, 1)\n",
    "X_hits = X_hits.reshape(-1, 1)"
   ]
  },
  {
   "cell_type": "code",
   "execution_count": 55,
   "metadata": {},
   "outputs": [
    {
     "name": "stderr",
     "output_type": "stream",
     "text": [
      "/usr/local/lib/python3.7/site-packages/sklearn/linear_model/base.py:485: RuntimeWarning: internal gelsd driver lwork query error, required iwork dimension not returned. This is likely the result of LAPACK bug 0038, fixed in LAPACK 3.2.2 (released July 21, 2010). Falling back to 'gelss' driver.\n",
      "  linalg.lstsq(X, y)\n"
     ]
    },
    {
     "data": {
      "text/plain": [
       "LinearRegression(copy_X=True, fit_intercept=True, n_jobs=None,\n",
       "         normalize=False)"
      ]
     },
     "execution_count": 55,
     "metadata": {},
     "output_type": "execute_result"
    }
   ],
   "source": [
    "# Instantiate Linear Regression\n",
    "reg_hits = linear_model.LinearRegression()\n",
    "reg_hits.fit(X_hits, y)"
   ]
  },
  {
   "cell_type": "code",
   "execution_count": 61,
   "metadata": {},
   "outputs": [
    {
     "data": {
      "image/png": "[encoded data removed]",
      "text/plain": [
       "<Figure size 432x288 with 1 Axes>"
      ]
     },
     "metadata": {
      "needs_background": "light"
     },
     "output_type": "display_data"
    }
   ],
   "source": [
    "# Fitting a regression model\n",
    "# Set up the prediction space to range from the min to the max of number of rooms\n",
    "prediction_space = np.linspace(min(X_hits),\n",
    "                               max(X_hits)).reshape(-1, 1)\n",
    "plt.scatter(X_hits, y, color='#40E0D0')\n",
    "plt.plot(prediction_space, reg_hits.predict(prediction_space),\n",
    "         color='black', linewidth=3)\n",
    "plt.ylabel('Average Rank')\n",
    "plt.xlabel('Hits Per Shot')\n",
    "plt.show()"
   ]
  },
  {
   "cell_type": "code",
   "execution_count": 46,
   "metadata": {},
   "outputs": [],
   "source": [
    "# Creating feature and target arrays\n",
    "X_speed = df.drop(\"Average Rank\", axis=1).values\n",
    "\n",
    "X_speed = X_speed[:,1]\n",
    "\n",
    "X_speed = X_speed.reshape(-1, 1)"
   ]
  },
  {
   "cell_type": "code",
   "execution_count": 59,
   "metadata": {},
   "outputs": [
    {
     "data": {
      "text/plain": [
       "LinearRegression(copy_X=True, fit_intercept=True, n_jobs=None,\n",
       "         normalize=False)"
      ]
     },
     "execution_count": 59,
     "metadata": {},
     "output_type": "execute_result"
    }
   ],
   "source": [
    "# Instantiate Linear Regression\n",
    "reg_speed = linear_model.LinearRegression()\n",
    "reg_speed.fit(X_speed, y)"
   ]
  },
  {
   "cell_type": "code",
   "execution_count": 60,
   "metadata": {
    "scrolled": true
   },
   "outputs": [
    {
     "data": {
      "image/png": "[encoded data removed]",
      "text/plain": [
       "<Figure size 432x288 with 1 Axes>"
      ]
     },
     "metadata": {
      "needs_background": "light"
     },
     "output_type": "display_data"
    }
   ],
   "source": [
    "# Fitting a regression model\n",
    "# Set up the prediction space to range from the min to the max of number of rooms\n",
    "prediction_space = np.linspace(min(X_speed),\n",
    "                               max(X_speed)).reshape(-1, 1)\n",
    "plt.scatter(X_speed, y, color='#D39EA6')\n",
    "plt.plot(prediction_space, reg_speed.predict(prediction_space),\n",
    "         color='black', linewidth=3)\n",
    "plt.ylabel('Average Rank')\n",
    "plt.xlabel('km/h')\n",
    "plt.show()"
   ]
  },
  {
   "cell_type": "markdown",
   "metadata": {},
   "source": [
    "# Root Mean Squared Error (RMSE) vs. Coefficient of Determination (R Squared)\n",
    "\n",
    "* Whereas R-squared is a relative measure of fit, RMSE is an absolute measure of fit. \n",
    "\n",
    "* RMSE is the square root of the variance of the residuals. It indicates the absolute fit of the model to the data–how close the observed data points are to the model’s predicted values. \n",
    "\n",
    "* As the square root of a variance, RMSE can be interpreted as the standard deviation of the unexplained variance, and has the useful property of being in the same units as the response variable. Lower values of RMSE indicate better fit. \n",
    "\n",
    "* RMSE is a good measure of how accurately the model predicts the response, and it is the most important criterion for fit if the main purpose of the model is prediction. \n",
    "\n",
    "[link](https://www.theanalysisfactor.com/assessing-the-fit-of-regression-models/)\n",
    "\n",
    "$ RMSE = \\sqrt{\\frac{1}{n}\\Sigma_{i=1}^{n}{\\Big(\\frac{d_i -f_i}{\\sigma_i}\\Big)^2}} $"
   ]
  },
  {
   "cell_type": "code",
   "execution_count": 62,
   "metadata": {},
   "outputs": [
    {
     "name": "stdout",
     "output_type": "stream",
     "text": [
      "Root Mean Squared Error of Model based on hits: 34.19284871227495\n",
      "Root Mean Squared Error of Model based on speed: 35.8608452865992\n"
     ]
    }
   ],
   "source": [
    "# Root Mean Squared Error (RMSE)\n",
    "rmse_hits = np.sqrt(mean_squared_error(X_hits, reg_hits.predict(X_hits)))\n",
    "rmse_speed = np.sqrt(mean_squared_error(X_speed, reg_speed.predict(X_speed)))\n",
    "\n",
    "print(\"Root Mean Squared Error of Model based on hits: {}\".format(rmse_hits))\n",
    "print(\"Root Mean Squared Error of Model based on speed: {}\".format(rmse_speed))"
   ]
  },
  {
   "cell_type": "markdown",
   "metadata": {},
   "source": [
    "## What in the world is a Biatholon???\n",
    "\n",
    "[source](https://adventure.howstuffworks.com/outdoor-activities/snow-sports/biathlon1.htm)\n",
    "\n",
    "A typical biathlon event requires participants to ski for a certain distance, usually between 3 and 5 kilometers (between 1.86 and 3.1 miles), with .22 caliber rifles strapped to their backs. When they reach the firing range, they must shoot five targets placed 50 meters (165 feet) away. They only have five shots, and for each shot that misses a target, the competitor must ski around a penalty loop of 150 m. This process repeats over three or four additional segments of skiing and shooting.\n",
    "\n",
    "In a biathlon event, competitors cross-country ski for a pre-determined distance, and then stop at a rifle range to fire at targets. In all events, the targets are 50 meters downrange. In some events, the skiing portion is truly cross-country. In others, skiers race around a course. After each lap around the course, they stop at the shooting range.\n",
    "\n",
    "Shooting portions are conducted in either the prone or the standing (sometimes known as off-hand) positions. The athletes do not choose the position -- each event requires different shooting positions at specific points in the race. In the standing position, the target area is 11.5 centimeters in diameter. In the prone position, the target is only 4.5 cm wide. In addition, the wrist can't touch the ground while in the prone position.\n",
    "\n",
    "At the firing range, each competitor has five targets, with one round of ammunition per target. In every event except individual, each missed target results in a 150 m penalty. The penalty includes skiing around a 150 m loop off to the side of the main course. In the individual event, each missed target adds a penalty of one minute to the competitor's final time.\n",
    "\n",
    "The relay event differs slightly in that the athletes have three extra rounds at each firing range. They still have to strike five targets, but if they miss on any of the first five shots, they can load additional bullets to get the remaining targets. Loading a bullet takes five to seven seconds. Each target that remains standing after all eight shots have been fired results in a trip around the 150 m penalty loop.\n",
    "\n",
    "### The 2018 PeyongChang Winter Olympic biathlon\n",
    "\n",
    "The 2018 PeyongChang Winter Olympic biathlon includes five main event types: individual, sprint, pursuit and relay. These events are divided into different distances and split between men's and women's competitions for a total of 11 different events:\n",
    "\n",
    "* Men's 20 km Individual\n",
    "* Women's 15 km Individual\n",
    "* Men's 10 km Sprint\n",
    "* Women's 7.5 km Sprint\n",
    "* Women's 10 km Pursuit\n",
    "* Men's 12.5 km Pursuit\n",
    "* Men's 4 x 7.5 km Relay\n",
    "* Women's 4 x 6 km Relay\n",
    "* Men's 15 km Mass Start\n",
    "* Women's 12.5 km Mass Start\n",
    "* 2x6km Women and 2x7.5 km Men Mixed Relay\n",
    "\n",
    "#### Individual\n",
    "This is the original biathlon event. Competitors each start 30 seconds apart, skiing five laps around a 3 or 4 km loop. At the end of each lap (except the final lap), competitors shoot. The four shooting portions in order are prone, standing, prone, standing, with five shots each round. Each missed shot adds a one-minute penalty. Standings are determined by overall time, which runs continuously from the moment a competitor leaves the starting line to when he or she crosses the finish line. The winners of this event will finish in under 50 minutes.\n",
    "\n",
    "#### Sprint\n",
    "Sprint is similar to the individual, but the distance is shorter (about 10 km total), and there are only two shooting portions: prone, then standing. Each missed target results in one lap around the 150 m penalty loop.\n",
    "\n",
    "#### Pursuit\n",
    "The Pursuit is unusual among Olympic events in that a previous event's results determine its competitors. The top 60 competitors from the Sprint qualify for the Pursuit. They start the 12.5 km (10 km for women) event at intervals based on their Sprint finishing times, but the race is actually head-to-head. This means that whoever does well in the Sprint and starts the Pursuit first has an actual head start over the rest of the field, who are constantly in \"pursuit.\" The Pursuit has four shooting portions: prone, prone, standing, standing.\n",
    "\n",
    "#### Relay\n",
    "Each relay team has four members. All the first-leg skiers line up at the starting line and begin at the same time. They tend to arrive at the first firing range in the same manner. Each team member skis about 3 or 4 km, shoots prone, then skis the rest of his 7.5 km leg (6 km for women) and shoots standing. Competitors must tag the next team member to start the next leg of the relay. This event is head-to-head. The athletes are not racing against the clock, but directly against each other. Whoever crosses the finish line first wins. Each athlete is given three additional rounds of ammo as way to encourage faster shooting.\n",
    "\n",
    "#### Mixed Relay\n",
    "Each team has two women and two men. The order of departure is woman, woman, man, man. The women shoot two rounds at the 6 km mark, the men shoot two rounds at the 7.5 km mark. The competition rules are the same as for Relay.\n",
    "\n",
    "#### Mass Start\n",
    "This biathlon event is meant to appeal to spectators. Like Pursuit, entry is determined by prior events. Medal winners in the individual events qualify for Mass Start, with world IBU rankings determining the remaining field of 30. The men ski for 15 m and the women ski for a total of 12.5 km. The four shooting portions are prone, prone, standing, standing. Every time they miss, they must ski a 150 m penalty loop. This is a head-to-head competition, with all the competitors leaving the starting line at the same time.\n",
    "\n",
    "\n",
    "[read on](https://www.usatoday.com/story/sports/winter-olympics-2018/2018/02/06/biathlon/1079237001/)"
   ]
  },
  {
   "cell_type": "code",
   "execution_count": null,
   "metadata": {},
   "outputs": [],
   "source": []
  }
 ],
 "metadata": {
  "kernelspec": {
   "display_name": "Python 3",
   "language": "python",
   "name": "python3"
  },
  "language_info": {
   "codemirror_mode": {
    "name": "ipython",
    "version": 3
   },
   "file_extension": ".py",
   "mimetype": "text/x-python",
   "name": "python",
   "nbconvert_exporter": "python",
   "pygments_lexer": "ipython3",
   "version": "3.7.3"
  }
 },
 "nbformat": 4,
 "nbformat_minor": 2
}
