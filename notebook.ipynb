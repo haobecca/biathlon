{
 "cells": [
  {
   "cell_type": "markdown",
   "metadata": {},
   "source": [
    "# Biathlon Data Science Project\n",
    "\n",
    "* Data source: Real Biatholon Statistics [link](http://www.realbiathlon.com/p/statistics-women.html)\n",
    "* 2015-2016 Season Biathlon World Cup Womens Shooting Times: [link](http://realbiathlon.sportsontheweb.net/data2/WomenShootingTimes_files/sheet016.htm)\n",
    "* 2015-2016 Season Biathlon World Cup Womens Results: [link](http://realbiathlon.sportsontheweb.net/data2/WomenResults_files/sheet016.htm)\n",
    "\n",
    "## Definition of Features\n",
    "\n",
    "From the metadata on the data source we have the following definition of the features.\n",
    "\n",
    "*From \"shooting_time.csv\"*\n",
    "\n",
    "| Feature  | Description |\n",
    "|--------------|-------------|\n",
    "|  Family Name  | Last Name|\n",
    "|  Given Name  | First Name|\n",
    "|  Races  |  Number of individual, non-relay races each person competed in over the 2015-16 season|\n",
    "|  Rg_Time_S |  Average Time for individual to get into standing position, shoot and get out of position, otherwise known as Range Time to shoot Standing|\n",
    "|  Rg_Time_P |  Average Time for individual to get into prone position, shoot, and get out of position, otherwise known as Range Time to shoot Prone|\n",
    "|  Penalty Loop  |  Season average penalty loop (approximation)|\n",
    "\n",
    "*From \"skiing_performance.csv\"*\n",
    "\n",
    "| Feature  | Description |\n",
    "|--------------|-------------|\n",
    "|  Km/h  |  season's average ski speed in km/h|\n",
    "\n",
    "*From \"shooting_percentage.csv\"*\n",
    "\n",
    "| Feature  | Description |\n",
    "|--------------|-------------|\n",
    "|  Hits  |  Number of targets hits|\n",
    "|  Shots  |  Number of total targets the individual could have hit (Or wanted to hit to not ski any penalty loops)|\n",
    "|  P%  |  Average percentage of Prone targets hit|\n",
    "|  S%  |  Average percentage of Standing Targets hit|\n",
    "\n",
    "\n",
    "## What we can do next\n",
    "<input type=\"checkbox\">  Merge shooting time dataframe with results dataframe to create a target for training our model. Add average rank and world cup points as columns from results file.\n",
    "\n",
    "<input type=\"checkbox\">  Statistical analysis -- what is the spread of each category? Create a new column of Hits/ Shots (Shooting Percentage) and get rid of % P and % S. Vizualize this\n",
    "\n",
    "<input type=\"checkbox\">  Feature selection -- What categories might contribute more to the final ranking? (\"Skiing is for show, shooting is for dough\")\n",
    "\n",
    "<input type=\"checkbox\">  Train a model to predict placement. How accurate is it? Would combining data from different years yield better results?\n",
    "\n",
    "<input type=\"checkbox\">  How have the categories changed throughout the years? Is the sport getting more competitive?"
   ]
  },
  {
   "cell_type": "markdown",
   "metadata": {},
   "source": [
    "### Merging Dataframes\n",
    "\n",
    "* Compare statistics for Fastest Skiers and Shooting percentages/shooting times\n",
    "* Concat First + Last name\n"
   ]
  },
  {
   "cell_type": "code",
   "execution_count": 1,
   "metadata": {},
   "outputs": [],
   "source": [
    "import pandas as pd\n",
    "import matplotlib.pyplot as plt      # matplotlib.pyplot plots data\n",
    "import seaborn as sns\n",
    "import datetime\n",
    "\n",
    "%matplotlib inline"
   ]
  },
  {
   "cell_type": "markdown",
   "metadata": {},
   "source": [
    "The dataset already contains an index column. We can either set this column as the index in our data frame, our we can choose to drop the first column in our dataset. I am doing the former below. Further, we see a large number of NaN's. Let's go ahead and convert these to 0:00.0 to be consistent. While we're at it, let's also rename the columns to something less confusing."
   ]
  },
  {
   "cell_type": "code",
   "execution_count": 2,
   "metadata": {
    "scrolled": false
   },
   "outputs": [
    {
     "data": {
      "text/html": [
       "<div>\n",
       "<style scoped>\n",
       "    .dataframe tbody tr th:only-of-type {\n",
       "        vertical-align: middle;\n",
       "    }\n",
       "\n",
       "    .dataframe tbody tr th {\n",
       "        vertical-align: top;\n",
       "    }\n",
       "\n",
       "    .dataframe thead th {\n",
       "        text-align: right;\n",
       "    }\n",
       "</style>\n",
       "<table border=\"1\" class=\"dataframe\">\n",
       "  <thead>\n",
       "    <tr style=\"text-align: right;\">\n",
       "      <th></th>\n",
       "      <th>Family Name</th>\n",
       "      <th>Given Name</th>\n",
       "      <th>Races</th>\n",
       "      <th>Rg_Time_P</th>\n",
       "      <th>Rg_Time_S</th>\n",
       "      <th>Penalty Loop</th>\n",
       "    </tr>\n",
       "  </thead>\n",
       "  <tbody>\n",
       "    <tr>\n",
       "      <th>1</th>\n",
       "      <td>KAISHEVA</td>\n",
       "      <td>Uliana</td>\n",
       "      <td>1</td>\n",
       "      <td>0:41.8</td>\n",
       "      <td>0:41.7</td>\n",
       "      <td>0:26.0</td>\n",
       "    </tr>\n",
       "    <tr>\n",
       "      <th>2</th>\n",
       "      <td>KUMMER</td>\n",
       "      <td>Luise</td>\n",
       "      <td>6</td>\n",
       "      <td>0:48.1</td>\n",
       "      <td>0:45.9</td>\n",
       "      <td>0:26.4</td>\n",
       "    </tr>\n",
       "    <tr>\n",
       "      <th>3</th>\n",
       "      <td>HAUSER</td>\n",
       "      <td>Lisa Theresa</td>\n",
       "      <td>24</td>\n",
       "      <td>0:48.3</td>\n",
       "      <td>0:43.6</td>\n",
       "      <td>0:25.3</td>\n",
       "    </tr>\n",
       "    <tr>\n",
       "      <th>4</th>\n",
       "      <td>ZDOUC</td>\n",
       "      <td>Dunja</td>\n",
       "      <td>11</td>\n",
       "      <td>0:49.5</td>\n",
       "      <td>0:45.1</td>\n",
       "      <td>0:25.8</td>\n",
       "    </tr>\n",
       "    <tr>\n",
       "      <th>5</th>\n",
       "      <td>WIERER</td>\n",
       "      <td>Dorothea</td>\n",
       "      <td>25</td>\n",
       "      <td>0:47.2</td>\n",
       "      <td>0:44.9</td>\n",
       "      <td>0:23.5</td>\n",
       "    </tr>\n",
       "  </tbody>\n",
       "</table>\n",
       "</div>"
      ],
      "text/plain": [
       "  Family Name    Given Name  Races Rg_Time_P Rg_Time_S Penalty Loop\n",
       "1    KAISHEVA        Uliana      1    0:41.8    0:41.7       0:26.0\n",
       "2      KUMMER         Luise      6    0:48.1    0:45.9       0:26.4\n",
       "3      HAUSER  Lisa Theresa     24    0:48.3    0:43.6       0:25.3\n",
       "4       ZDOUC         Dunja     11    0:49.5    0:45.1       0:25.8\n",
       "5      WIERER      Dorothea     25    0:47.2    0:44.9       0:23.5"
      ]
     },
     "execution_count": 2,
     "metadata": {},
     "output_type": "execute_result"
    }
   ],
   "source": [
    "df_sh_times = pd.read_csv(\"shooting_time.csv\", index_col=0)\n",
    "df_sh_times = df_sh_times.fillna('0:00.0')\n",
    "df_sh_times = df_sh_times[['Family Name', \n",
    "                           'Given Name', \n",
    "                           'Races', \n",
    "                           'Rg Time\\nP', \n",
    "                           'Rg Time\\nS', \n",
    "                           'Penalty\\nLoop' ]]\n",
    "\n",
    "df_sh_times = df_sh_times.rename(columns={'Rg Time\\nP': 'Rg_Time_P',\n",
    "                                          'Rg Time\\nS': 'Rg_Time_S',\n",
    "                                          'Penalty\\nLoop': \"Penalty Loop\"})\n",
    "df_sh_times.head()"
   ]
  },
  {
   "cell_type": "markdown",
   "metadata": {},
   "source": [
    "We see that the times are stored as string. Let's write a function to convert each of the times to total seconds."
   ]
  },
  {
   "cell_type": "code",
   "execution_count": 3,
   "metadata": {},
   "outputs": [],
   "source": [
    "def str_to_sec(val):\n",
    "    minute, seconds = val.split(\":\")\n",
    "    sec, msec = seconds.split(\".\")\n",
    "    total_sec = int(minute)*60 + int(sec) + int(msec)/10\n",
    "    return total_sec"
   ]
  },
  {
   "cell_type": "code",
   "execution_count": 4,
   "metadata": {
    "scrolled": true
   },
   "outputs": [
    {
     "data": {
      "text/html": [
       "<div>\n",
       "<style scoped>\n",
       "    .dataframe tbody tr th:only-of-type {\n",
       "        vertical-align: middle;\n",
       "    }\n",
       "\n",
       "    .dataframe tbody tr th {\n",
       "        vertical-align: top;\n",
       "    }\n",
       "\n",
       "    .dataframe thead th {\n",
       "        text-align: right;\n",
       "    }\n",
       "</style>\n",
       "<table border=\"1\" class=\"dataframe\">\n",
       "  <thead>\n",
       "    <tr style=\"text-align: right;\">\n",
       "      <th></th>\n",
       "      <th>Family Name</th>\n",
       "      <th>Races</th>\n",
       "      <th>Rg_Time_P</th>\n",
       "      <th>Rg_Time_S</th>\n",
       "      <th>Penalty Loop</th>\n",
       "    </tr>\n",
       "  </thead>\n",
       "  <tbody>\n",
       "    <tr>\n",
       "      <th>1</th>\n",
       "      <td>Kaisheva Uliana</td>\n",
       "      <td>1</td>\n",
       "      <td>41.8</td>\n",
       "      <td>41.7</td>\n",
       "      <td>26.0</td>\n",
       "    </tr>\n",
       "    <tr>\n",
       "      <th>2</th>\n",
       "      <td>Kummer Luise</td>\n",
       "      <td>6</td>\n",
       "      <td>48.1</td>\n",
       "      <td>45.9</td>\n",
       "      <td>26.4</td>\n",
       "    </tr>\n",
       "    <tr>\n",
       "      <th>3</th>\n",
       "      <td>Hauser Lisa Theresa</td>\n",
       "      <td>24</td>\n",
       "      <td>48.3</td>\n",
       "      <td>43.6</td>\n",
       "      <td>25.3</td>\n",
       "    </tr>\n",
       "    <tr>\n",
       "      <th>4</th>\n",
       "      <td>Zdouc Dunja</td>\n",
       "      <td>11</td>\n",
       "      <td>49.5</td>\n",
       "      <td>45.1</td>\n",
       "      <td>25.8</td>\n",
       "    </tr>\n",
       "    <tr>\n",
       "      <th>5</th>\n",
       "      <td>Wierer Dorothea</td>\n",
       "      <td>25</td>\n",
       "      <td>47.2</td>\n",
       "      <td>44.9</td>\n",
       "      <td>23.5</td>\n",
       "    </tr>\n",
       "  </tbody>\n",
       "</table>\n",
       "</div>"
      ],
      "text/plain": [
       "           Family Name  Races  Rg_Time_P  Rg_Time_S  Penalty Loop\n",
       "1      Kaisheva Uliana      1       41.8       41.7          26.0\n",
       "2         Kummer Luise      6       48.1       45.9          26.4\n",
       "3  Hauser Lisa Theresa     24       48.3       43.6          25.3\n",
       "4          Zdouc Dunja     11       49.5       45.1          25.8\n",
       "5      Wierer Dorothea     25       47.2       44.9          23.5"
      ]
     },
     "execution_count": 4,
     "metadata": {},
     "output_type": "execute_result"
    }
   ],
   "source": [
    "for c in df_sh_times.columns[3::]:\n",
    "    df_sh_times[c] = df_sh_times[c].apply(lambda x: str_to_sec(x))\n",
    "\n",
    "df_sh_times['Family Name'] = df_sh_times['Family Name'].apply(lambda x: x.capitalize()) + \" \" + df_sh_times['Given Name']   \n",
    "df_sh_times = df_sh_times.drop([\"Given Name\"], axis=1)\n",
    "df_sh_times.head()"
   ]
  },
  {
   "cell_type": "markdown",
   "metadata": {},
   "source": [
    "Much better! Now that the data is in a more workable format, let's dive deeper into what the dataset looks like. Some things we might be interested in include the shape, a summary of each column (number of entries, data types etc), and a correlation matrix to pick out any redundancies."
   ]
  },
  {
   "cell_type": "code",
   "execution_count": 5,
   "metadata": {},
   "outputs": [
    {
     "name": "stdout",
     "output_type": "stream",
     "text": [
      "The shooting times data set now has 165 rows and 5 columns after cleaning\n"
     ]
    }
   ],
   "source": [
    "# Look at the shape of the dataframe (number of rows and columns)\n",
    "print(\"The shooting times data set now has {rows} rows and {cols} columns after cleaning\".format(rows=df_sh_times.shape[0], \n",
    "                                                                cols=df_sh_times.shape[1]))"
   ]
  },
  {
   "cell_type": "code",
   "execution_count": 6,
   "metadata": {},
   "outputs": [
    {
     "name": "stdout",
     "output_type": "stream",
     "text": [
      "<class 'pandas.core.frame.DataFrame'>\n",
      "Int64Index: 165 entries, 1 to 165\n",
      "Data columns (total 5 columns):\n",
      "Family Name     165 non-null object\n",
      "Races           165 non-null int64\n",
      "Rg_Time_P       165 non-null float64\n",
      "Rg_Time_S       165 non-null float64\n",
      "Penalty Loop    165 non-null float64\n",
      "dtypes: float64(3), int64(1), object(1)\n",
      "memory usage: 7.7+ KB\n"
     ]
    }
   ],
   "source": [
    "# look a a summary of each column (number of entries, data-type etc)\n",
    "df_sh_times.info()"
   ]
  },
  {
   "cell_type": "code",
   "execution_count": 7,
   "metadata": {},
   "outputs": [
    {
     "data": {
      "text/plain": [
       "False"
      ]
     },
     "execution_count": 7,
     "metadata": {},
     "output_type": "execute_result"
    }
   ],
   "source": [
    "# Check for any null values\n",
    "df_sh_times.isnull().values.any()"
   ]
  },
  {
   "cell_type": "code",
   "execution_count": 8,
   "metadata": {},
   "outputs": [
    {
     "data": {
      "text/html": [
       "<div>\n",
       "<style scoped>\n",
       "    .dataframe tbody tr th:only-of-type {\n",
       "        vertical-align: middle;\n",
       "    }\n",
       "\n",
       "    .dataframe tbody tr th {\n",
       "        vertical-align: top;\n",
       "    }\n",
       "\n",
       "    .dataframe thead th {\n",
       "        text-align: right;\n",
       "    }\n",
       "</style>\n",
       "<table border=\"1\" class=\"dataframe\">\n",
       "  <thead>\n",
       "    <tr style=\"text-align: right;\">\n",
       "      <th></th>\n",
       "      <th>Family Name</th>\n",
       "      <th>km/h</th>\n",
       "    </tr>\n",
       "  </thead>\n",
       "  <tbody>\n",
       "    <tr>\n",
       "      <th>1</th>\n",
       "      <td>Makarainen Kaisa</td>\n",
       "      <td>24.08</td>\n",
       "    </tr>\n",
       "    <tr>\n",
       "      <th>2</th>\n",
       "      <td>Dorin habert Marie</td>\n",
       "      <td>23.85</td>\n",
       "    </tr>\n",
       "    <tr>\n",
       "      <th>3</th>\n",
       "      <td>Eckhoff Tiril</td>\n",
       "      <td>23.74</td>\n",
       "    </tr>\n",
       "    <tr>\n",
       "      <th>4</th>\n",
       "      <td>Dahlmeier Laura</td>\n",
       "      <td>23.70</td>\n",
       "    </tr>\n",
       "    <tr>\n",
       "      <th>5</th>\n",
       "      <td>Goessner Miriam</td>\n",
       "      <td>23.89</td>\n",
       "    </tr>\n",
       "  </tbody>\n",
       "</table>\n",
       "</div>"
      ],
      "text/plain": [
       "          Family Name   km/h\n",
       "1    Makarainen Kaisa  24.08\n",
       "2  Dorin habert Marie  23.85\n",
       "3       Eckhoff Tiril  23.74\n",
       "4     Dahlmeier Laura  23.70\n",
       "5     Goessner Miriam  23.89"
      ]
     },
     "execution_count": 8,
     "metadata": {},
     "output_type": "execute_result"
    }
   ],
   "source": [
    "# Now read in the skiing performance data set\n",
    "df_ski = pd.read_csv(\"skiing_performance.csv\", index_col=0)\n",
    "df_ski = df_ski[['Family Name', 'Given Name', 'km/h']]\n",
    "df_ski['Family Name'] = df_ski['Family Name'].apply(lambda x: x.capitalize()) + \" \" + df_ski['Given Name']\n",
    "df_ski = df_ski.drop([\"Given Name\"], axis=1)\n",
    "\n",
    "df_ski.head()"
   ]
  },
  {
   "cell_type": "code",
   "execution_count": 9,
   "metadata": {},
   "outputs": [
    {
     "data": {
      "text/plain": [
       "False"
      ]
     },
     "execution_count": 9,
     "metadata": {},
     "output_type": "execute_result"
    }
   ],
   "source": [
    "df_ski.isnull().values.any()"
   ]
  },
  {
   "cell_type": "code",
   "execution_count": 10,
   "metadata": {
    "scrolled": true
   },
   "outputs": [
    {
     "data": {
      "text/html": [
       "<div>\n",
       "<style scoped>\n",
       "    .dataframe tbody tr th:only-of-type {\n",
       "        vertical-align: middle;\n",
       "    }\n",
       "\n",
       "    .dataframe tbody tr th {\n",
       "        vertical-align: top;\n",
       "    }\n",
       "\n",
       "    .dataframe thead th {\n",
       "        text-align: right;\n",
       "    }\n",
       "</style>\n",
       "<table border=\"1\" class=\"dataframe\">\n",
       "  <thead>\n",
       "    <tr style=\"text-align: right;\">\n",
       "      <th></th>\n",
       "      <th>Family Name</th>\n",
       "      <th>Hits</th>\n",
       "      <th>Shots</th>\n",
       "      <th>P\n",
       " %</th>\n",
       "      <th>S\n",
       "%</th>\n",
       "    </tr>\n",
       "  </thead>\n",
       "  <tbody>\n",
       "    <tr>\n",
       "      <th>1</th>\n",
       "      <td>Kupfner Simone</td>\n",
       "      <td>10</td>\n",
       "      <td>10</td>\n",
       "      <td>100.0</td>\n",
       "      <td>100.0</td>\n",
       "    </tr>\n",
       "    <tr>\n",
       "      <th>2</th>\n",
       "      <td>Kadeva Daniela</td>\n",
       "      <td>10</td>\n",
       "      <td>10</td>\n",
       "      <td>100.0</td>\n",
       "      <td>100.0</td>\n",
       "    </tr>\n",
       "    <tr>\n",
       "      <th>3</th>\n",
       "      <td>Vaillancourt Audrey</td>\n",
       "      <td>19</td>\n",
       "      <td>20</td>\n",
       "      <td>90.0</td>\n",
       "      <td>100.0</td>\n",
       "    </tr>\n",
       "    <tr>\n",
       "      <th>4</th>\n",
       "      <td>Runggaldier Alexia</td>\n",
       "      <td>87</td>\n",
       "      <td>93</td>\n",
       "      <td>95.7</td>\n",
       "      <td>91.5</td>\n",
       "    </tr>\n",
       "    <tr>\n",
       "      <th>5</th>\n",
       "      <td>Skardino Nadezhda</td>\n",
       "      <td>365</td>\n",
       "      <td>394</td>\n",
       "      <td>92.4</td>\n",
       "      <td>92.9</td>\n",
       "    </tr>\n",
       "  </tbody>\n",
       "</table>\n",
       "</div>"
      ],
      "text/plain": [
       "           Family Name  Hits  Shots  P\\n %   S\\n%\n",
       "1       Kupfner Simone    10     10  100.0  100.0\n",
       "2       Kadeva Daniela    10     10  100.0  100.0\n",
       "3  Vaillancourt Audrey    19     20   90.0  100.0\n",
       "4   Runggaldier Alexia    87     93   95.7   91.5\n",
       "5    Skardino Nadezhda   365    394   92.4   92.9"
      ]
     },
     "execution_count": 10,
     "metadata": {},
     "output_type": "execute_result"
    }
   ],
   "source": [
    "# Now read in the skiing performance data set\n",
    "df_sh_per = pd.read_csv(\"shooting_percentage.csv\", index_col=0)\n",
    "df_sh_per = df_sh_per[['Family Name', 'Given Name', 'Hits', 'Shots', 'P\\n %', 'S\\n%']]\n",
    "df_sh_per['Family Name'] = df_sh_per['Family Name'].apply(lambda x: x.capitalize()) + \" \" + df_sh_per['Given Name']\n",
    "df_sh_per = df_sh_per.drop([\"Given Name\"], axis=1)\n",
    "\n",
    "df_sh_per.head()"
   ]
  },
  {
   "cell_type": "code",
   "execution_count": 11,
   "metadata": {},
   "outputs": [
    {
     "data": {
      "text/plain": [
       "False"
      ]
     },
     "execution_count": 11,
     "metadata": {},
     "output_type": "execute_result"
    }
   ],
   "source": [
    "df_sh_per.isnull().values.any()"
   ]
  },
  {
   "cell_type": "code",
   "execution_count": 12,
   "metadata": {},
   "outputs": [
    {
     "data": {
      "text/html": [
       "<div>\n",
       "<style scoped>\n",
       "    .dataframe tbody tr th:only-of-type {\n",
       "        vertical-align: middle;\n",
       "    }\n",
       "\n",
       "    .dataframe tbody tr th {\n",
       "        vertical-align: top;\n",
       "    }\n",
       "\n",
       "    .dataframe thead th {\n",
       "        text-align: right;\n",
       "    }\n",
       "</style>\n",
       "<table border=\"1\" class=\"dataframe\">\n",
       "  <thead>\n",
       "    <tr style=\"text-align: right;\">\n",
       "      <th></th>\n",
       "      <th>Family Name</th>\n",
       "      <th>Races</th>\n",
       "      <th>Rg_Time_P</th>\n",
       "      <th>Rg_Time_S</th>\n",
       "      <th>Penalty Loop</th>\n",
       "      <th>Hits</th>\n",
       "      <th>Shots</th>\n",
       "      <th>P\n",
       " %</th>\n",
       "      <th>S\n",
       "%</th>\n",
       "      <th>km/h</th>\n",
       "    </tr>\n",
       "  </thead>\n",
       "  <tbody>\n",
       "    <tr>\n",
       "      <th>0</th>\n",
       "      <td>Kaisheva Uliana</td>\n",
       "      <td>1</td>\n",
       "      <td>41.8</td>\n",
       "      <td>41.7</td>\n",
       "      <td>26.0</td>\n",
       "      <td>8</td>\n",
       "      <td>10</td>\n",
       "      <td>100.0</td>\n",
       "      <td>60.0</td>\n",
       "      <td>22.32</td>\n",
       "    </tr>\n",
       "    <tr>\n",
       "      <th>1</th>\n",
       "      <td>Kummer Luise</td>\n",
       "      <td>6</td>\n",
       "      <td>48.1</td>\n",
       "      <td>45.9</td>\n",
       "      <td>26.4</td>\n",
       "      <td>107</td>\n",
       "      <td>125</td>\n",
       "      <td>87.1</td>\n",
       "      <td>84.1</td>\n",
       "      <td>22.17</td>\n",
       "    </tr>\n",
       "    <tr>\n",
       "      <th>2</th>\n",
       "      <td>Hauser Lisa Theresa</td>\n",
       "      <td>24</td>\n",
       "      <td>48.3</td>\n",
       "      <td>43.6</td>\n",
       "      <td>25.3</td>\n",
       "      <td>434</td>\n",
       "      <td>486</td>\n",
       "      <td>90.9</td>\n",
       "      <td>87.7</td>\n",
       "      <td>22.64</td>\n",
       "    </tr>\n",
       "    <tr>\n",
       "      <th>3</th>\n",
       "      <td>Zdouc Dunja</td>\n",
       "      <td>11</td>\n",
       "      <td>49.5</td>\n",
       "      <td>45.1</td>\n",
       "      <td>25.8</td>\n",
       "      <td>201</td>\n",
       "      <td>237</td>\n",
       "      <td>84.2</td>\n",
       "      <td>85.5</td>\n",
       "      <td>21.94</td>\n",
       "    </tr>\n",
       "    <tr>\n",
       "      <th>4</th>\n",
       "      <td>Wierer Dorothea</td>\n",
       "      <td>25</td>\n",
       "      <td>47.2</td>\n",
       "      <td>44.9</td>\n",
       "      <td>23.5</td>\n",
       "      <td>431</td>\n",
       "      <td>496</td>\n",
       "      <td>91.4</td>\n",
       "      <td>82.5</td>\n",
       "      <td>23.35</td>\n",
       "    </tr>\n",
       "  </tbody>\n",
       "</table>\n",
       "</div>"
      ],
      "text/plain": [
       "           Family Name  Races  Rg_Time_P  Rg_Time_S  Penalty Loop  Hits  \\\n",
       "0      Kaisheva Uliana      1       41.8       41.7          26.0     8   \n",
       "1         Kummer Luise      6       48.1       45.9          26.4   107   \n",
       "2  Hauser Lisa Theresa     24       48.3       43.6          25.3   434   \n",
       "3          Zdouc Dunja     11       49.5       45.1          25.8   201   \n",
       "4      Wierer Dorothea     25       47.2       44.9          23.5   431   \n",
       "\n",
       "   Shots  P\\n %  S\\n%   km/h  \n",
       "0     10  100.0  60.0  22.32  \n",
       "1    125   87.1  84.1  22.17  \n",
       "2    486   90.9  87.7  22.64  \n",
       "3    237   84.2  85.5  21.94  \n",
       "4    496   91.4  82.5  23.35  "
      ]
     },
     "execution_count": 12,
     "metadata": {},
     "output_type": "execute_result"
    }
   ],
   "source": [
    "df = df_sh_per.merge(df_ski, left_on='Family Name', right_on='Family Name')\n",
    "df = df_sh_times.merge(df, left_on='Family Name', right_on='Family Name')\n",
    "\n",
    "df.head()"
   ]
  },
  {
   "cell_type": "code",
   "execution_count": 18,
   "metadata": {},
   "outputs": [
    {
     "data": {
      "text/plain": [
       "(165, 10)"
      ]
     },
     "execution_count": 18,
     "metadata": {},
     "output_type": "execute_result"
    }
   ],
   "source": [
    "df.isnull().values.any()\n",
    "df.shape"
   ]
  },
  {
   "cell_type": "code",
   "execution_count": 14,
   "metadata": {},
   "outputs": [
    {
     "name": "stdout",
     "output_type": "stream",
     "text": [
      "The shooting times data set now has 165 rows and 10 columns after cleaning\n"
     ]
    }
   ],
   "source": [
    "# Look at the shape of the merged dataframe (number of rows and columns)\n",
    "print(\"The shooting times data set now has {rows} rows and {cols} columns after cleaning\".format(rows=df.shape[0], \n",
    "                                                                cols=df.shape[1]))"
   ]
  },
  {
   "cell_type": "code",
   "execution_count": 15,
   "metadata": {},
   "outputs": [],
   "source": [
    "def plot_pretty_corr(df):\n",
    "    plt.figure(figsize=(12, 12))\n",
    "    corr = df.corr()\n",
    "    ax = sns.heatmap(corr,\n",
    "                    vmin=-1,\n",
    "                    vmax=1,\n",
    "                    center=0,\n",
    "                    cmap=sns.diverging_palette(20, 220, n=200),\n",
    "        square=True\n",
    "    )\n",
    "    ax.set_xticklabels(\n",
    "        ax.get_xticklabels(),\n",
    "        rotation=45,\n",
    "        horizontalalignment='right'\n",
    "    );"
   ]
  },
  {
   "cell_type": "code",
   "execution_count": 19,
   "metadata": {},
   "outputs": [
    {
     "data": {
      "image/png": "[encoded data removed]",
      "text/plain": [
       "<Figure size 864x864 with 2 Axes>"
      ]
     },
     "metadata": {
      "needs_background": "light"
     },
     "output_type": "display_data"
    }
   ],
   "source": [
    "plot_pretty_corr(df)"
   ]
  },
  {
   "cell_type": "markdown",
   "metadata": {},
   "source": [
    "Hits on shots seem to correlate perfectly. Is there an opputunity to reduce dimensions here?"
   ]
  },
  {
   "cell_type": "code",
   "execution_count": null,
   "metadata": {},
   "outputs": [],
   "source": []
  }
 ],
 "metadata": {
  "kernelspec": {
   "display_name": "Python 3",
   "language": "python",
   "name": "python3"
  },
  "language_info": {
   "codemirror_mode": {
    "name": "ipython",
    "version": 3
   },
   "file_extension": ".py",
   "mimetype": "text/x-python",
   "name": "python",
   "nbconvert_exporter": "python",
   "pygments_lexer": "ipython3",
   "version": "3.7.3"
  }
 },
 "nbformat": 4,
 "nbformat_minor": 2
}
